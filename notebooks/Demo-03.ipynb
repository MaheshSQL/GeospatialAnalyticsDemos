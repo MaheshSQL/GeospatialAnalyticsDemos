{
 "cells": [
  {
   "cell_type": "markdown",
   "id": "ed9f3266-ec63-478c-804c-2668c5a7dbad",
   "metadata": {},
   "source": [
    "#### Demo-03"
   ]
  },
  {
   "cell_type": "markdown",
   "id": "56f926df-1350-4ced-b43c-27b54128dc9b",
   "metadata": {},
   "source": [
    "#### Planetary Computer Dataset Explorer"
   ]
  },
  {
   "cell_type": "markdown",
   "id": "a9e8c251-786d-437c-85d8-e0e5d7d9195a",
   "metadata": {},
   "source": [
    "https://planetarycomputer.microsoft.com/explore"
   ]
  },
  {
   "cell_type": "markdown",
   "id": "964a70d6-c1a3-4487-bb65-e5f8fda49188",
   "metadata": {},
   "source": [
    "#### Accessing Datasets using Azure Storage Explorer\n",
    "\n",
    "Efficiently connect and manage your Azure storage service accounts and resources across subscriptions and organizations. Create, delete, view, edit, and manage resources for Azure Storage, Azure Data Lake Storage, and Azure managed disks"
   ]
  },
  {
   "cell_type": "markdown",
   "id": "df292c60-3010-43dc-a3ba-e080639c8a3c",
   "metadata": {},
   "source": [
    "https://azure.microsoft.com/en-us/products/storage/storage-explorer/"
   ]
  },
  {
   "cell_type": "markdown",
   "id": "aa4ba9e8-1c67-479c-b313-cba642198b1d",
   "metadata": {},
   "source": [
    "![ASE](https://cdn-dynmedia-1.microsoft.com/is/image/microsoftcorp/on-premises_value-prop4?resMode=sharp2&op_usm=1.5,0.65,15,0&wid=1694&qlt=100&fmt=png-alpha&fit=constrain)"
   ]
  },
  {
   "cell_type": "markdown",
   "id": "6434b32a-d6e2-46ba-8558-c77b809ed515",
   "metadata": {},
   "source": [
    "Get access token"
   ]
  },
  {
   "cell_type": "markdown",
   "id": "e88a033d-7431-4021-b9ca-fe3a36a0dc9d",
   "metadata": {},
   "source": [
    "https://planetarycomputer.microsoft.com/api/sas/v1/token/{storage_account}/{container}"
   ]
  },
  {
   "cell_type": "markdown",
   "id": "3bd90b85-dbff-4da6-b388-cbad26cebe04",
   "metadata": {},
   "source": [
    "https://planetarycomputer.microsoft.com/api/sas/v1/sign?href=https://bingmlbuildings.blob.core.windows.net/footprints/global"
   ]
  },
  {
   "cell_type": "markdown",
   "id": "ba0a0b18-9819-41f6-9415-b927713eba1f",
   "metadata": {},
   "source": [
    "Browsing the dataset files using the storage explorer"
   ]
  }
 ],
 "metadata": {
  "kernelspec": {
   "display_name": "Python 3.9 (geospatial)",
   "language": "python",
   "name": "geospatial"
  },
  "language_info": {
   "codemirror_mode": {
    "name": "ipython",
    "version": 3
   },
   "file_extension": ".py",
   "mimetype": "text/x-python",
   "name": "python",
   "nbconvert_exporter": "python",
   "pygments_lexer": "ipython3",
   "version": "3.9.0"
  }
 },
 "nbformat": 4,
 "nbformat_minor": 5
}
