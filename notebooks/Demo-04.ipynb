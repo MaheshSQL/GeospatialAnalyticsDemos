{
 "cells": [
  {
   "cell_type": "markdown",
   "id": "ed9f3266-ec63-478c-804c-2668c5a7dbad",
   "metadata": {},
   "source": [
    "#### Demo-04"
   ]
  },
  {
   "cell_type": "markdown",
   "id": "b3e40e06-fb20-4f38-87b1-a045783645ef",
   "metadata": {},
   "source": [
    "#### Requesting access"
   ]
  },
  {
   "cell_type": "markdown",
   "id": "9a4fafd3-6802-49d2-a499-a1a6176faacd",
   "metadata": {},
   "source": [
    "The Planetary Computer Explorer, APIs and many datasets are available to anyone who would like to use it\n",
    "\n",
    "For 'specific datasets' such Sentinel 1 RTC or 'to access the Planetary Computer Hub' , you will need to create / request an account."
   ]
  },
  {
   "cell_type": "markdown",
   "id": "29b21207-d283-4f64-9c12-6f84a786d429",
   "metadata": {},
   "source": [
    "https://planetarycomputer.microsoft.com/"
   ]
  },
  {
   "cell_type": "markdown",
   "id": "964a70d6-c1a3-4487-bb65-e5f8fda49188",
   "metadata": {},
   "source": [
    "#### Planetary Computer - Hub\n",
    "\n",
    "The Planetary Computer Hub is a development environment that makes our data and APIs accessible through familiar, open-source tools, and allows users to easily scale their analyses with the power of Azure compute."
   ]
  },
  {
   "cell_type": "markdown",
   "id": "dd4bb0ec-d87b-4080-924f-99e2f07b0cf6",
   "metadata": {},
   "source": [
    "https://planetarycomputer.microsoft.com/compute"
   ]
  }
 ],
 "metadata": {
  "kernelspec": {
   "display_name": "Python 3.9 (geospatial)",
   "language": "python",
   "name": "geospatial"
  },
  "language_info": {
   "codemirror_mode": {
    "name": "ipython",
    "version": 3
   },
   "file_extension": ".py",
   "mimetype": "text/x-python",
   "name": "python",
   "nbconvert_exporter": "python",
   "pygments_lexer": "ipython3",
   "version": "3.9.0"
  }
 },
 "nbformat": 4,
 "nbformat_minor": 5
}
